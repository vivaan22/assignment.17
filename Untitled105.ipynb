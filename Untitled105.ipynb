{
 "cells": [
  {
   "cell_type": "code",
   "execution_count": null,
   "id": "24ac8007",
   "metadata": {},
   "outputs": [],
   "source": [
    "arr_t = np.array(l_2d).T\n",
    "\n",
    "print(arr_t)\n",
    "print(type(arr_t))\n",
    "# [[0 3]\n",
    "#  [1 4]\n",
    "#  [2 5]]\n",
    "# <class 'numpy.ndarray'>\n",
    "\n",
    "l_2d_t = np.array(l_2d).T.tolist()\n",
    "\n",
    "print(l_2d_t)\n",
    "print(type(l_2d_t))\n",
    "# [[0, 3], [1, 4], [2, 5]]\n",
    "# <class 'list'>"
   ]
  },
  {
   "cell_type": "code",
   "execution_count": null,
   "id": "aa9840da",
   "metadata": {},
   "outputs": [],
   "source": [
    "def isValidHexaCode(str):\n",
    " \n",
    "    if (str[0] != '#'):\n",
    "        return False\n",
    " \n",
    "    if (not(len(str) == 4 or len(str) == 7)):\n",
    "        return False\n",
    " \n",
    "    for i in range(1, len(str)):\n",
    "        if (not((str[i] >= '0' and str[i] <= '9') or (str[i] >= 'a' and str[i] <= 'f') or (str[i] >= 'A' or str[i] <= 'F'))):\n",
    "            return False\n",
    " \n",
    "    return True\n",
    " \n",
    " \n",
    "\n",
    "                                                                       \n"
   ]
  },
  {
   "cell_type": "code",
   "execution_count": null,
   "id": "efef82fc",
   "metadata": {},
   "outputs": [],
   "source": [
    "def round( n ):\n",
    " \n",
    "    # Smaller multiple\n",
    "    a = (n // 10) * 10\n",
    "     \n",
    "    # Larger multiple\n",
    "    b = a + 10\n",
    "     \n",
    "    # Return of closest of two\n",
    "    return (b if n - a > b - n else a)\n",
    " \n",
    "# driver code\n",
    "n = 4722\n",
    "print(round(n))"
   ]
  }
 ],
 "metadata": {
  "kernelspec": {
   "display_name": "Python 3",
   "language": "python",
   "name": "python3"
  },
  "language_info": {
   "codemirror_mode": {
    "name": "ipython",
    "version": 3
   },
   "file_extension": ".py",
   "mimetype": "text/x-python",
   "name": "python",
   "nbconvert_exporter": "python",
   "pygments_lexer": "ipython3",
   "version": "3.8.8"
  }
 },
 "nbformat": 4,
 "nbformat_minor": 5
}
